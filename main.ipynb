{
 "cells": [
  {
   "cell_type": "code",
   "execution_count": 1,
   "id": "b736b061",
   "metadata": {},
   "outputs": [],
   "source": [
    "import pandas as pd\n",
    "import matplotlib.pyplot as plt\n",
    "import seaborn as sns\n",
    "import numpy as np\n",
    "import itertools\n",
    "\n",
    "%matplotlib inline"
   ]
  },
  {
   "cell_type": "code",
   "execution_count": 2,
   "id": "c904c30a",
   "metadata": {},
   "outputs": [
    {
     "name": "stderr",
     "output_type": "stream",
     "text": [
      "C:\\Users\\aj824\\AppData\\Local\\Temp\\ipykernel_6572\\688577527.py:9: DtypeWarning: Columns (0) have mixed types. Specify dtype option on import or set low_memory=False.\n",
      "  df_fw_dm = pd.read_csv(df_3)\n"
     ]
    }
   ],
   "source": [
    "df_1 = 'df_final_demo.csv'\n",
    "df_2= 'df_final_experiment_clients.csv'\n",
    "df_3 = 'df_final_web_data_merged.csv'\n",
    "\n",
    "#df_t1 = 'df_final_web_data_pt_1.csv'\n",
    "\n",
    "df_fd = pd.read_csv(df_1)\n",
    "df_fe_c = pd.read_csv(df_2)\n",
    "df_fw_dm = pd.read_csv(df_3)\n",
    "#df_p1 = pd.read_csv(df_t1)\n"
   ]
  },
  {
   "cell_type": "code",
   "execution_count": 3,
   "id": "93b6c9ea",
   "metadata": {},
   "outputs": [
    {
     "data": {
      "text/html": [
       "<div>\n",
       "<style scoped>\n",
       "    .dataframe tbody tr th:only-of-type {\n",
       "        vertical-align: middle;\n",
       "    }\n",
       "\n",
       "    .dataframe tbody tr th {\n",
       "        vertical-align: top;\n",
       "    }\n",
       "\n",
       "    .dataframe thead th {\n",
       "        text-align: right;\n",
       "    }\n",
       "</style>\n",
       "<table border=\"1\" class=\"dataframe\">\n",
       "  <thead>\n",
       "    <tr style=\"text-align: right;\">\n",
       "      <th></th>\n",
       "      <th>client_id</th>\n",
       "      <th>visitor_id</th>\n",
       "      <th>visit_id</th>\n",
       "      <th>process_step</th>\n",
       "      <th>date_time</th>\n",
       "    </tr>\n",
       "  </thead>\n",
       "  <tbody>\n",
       "    <tr>\n",
       "      <th>0</th>\n",
       "      <td>9988021</td>\n",
       "      <td>580560515_7732621733</td>\n",
       "      <td>781255054_21935453173_531117</td>\n",
       "      <td>step_3</td>\n",
       "      <td>2017-04-17 15:27:07</td>\n",
       "    </tr>\n",
       "    <tr>\n",
       "      <th>1</th>\n",
       "      <td>9988021</td>\n",
       "      <td>580560515_7732621733</td>\n",
       "      <td>781255054_21935453173_531117</td>\n",
       "      <td>step_2</td>\n",
       "      <td>2017-04-17 15:26:51</td>\n",
       "    </tr>\n",
       "    <tr>\n",
       "      <th>2</th>\n",
       "      <td>9988021</td>\n",
       "      <td>580560515_7732621733</td>\n",
       "      <td>781255054_21935453173_531117</td>\n",
       "      <td>step_3</td>\n",
       "      <td>2017-04-17 15:19:22</td>\n",
       "    </tr>\n",
       "    <tr>\n",
       "      <th>3</th>\n",
       "      <td>9988021</td>\n",
       "      <td>580560515_7732621733</td>\n",
       "      <td>781255054_21935453173_531117</td>\n",
       "      <td>step_2</td>\n",
       "      <td>2017-04-17 15:19:13</td>\n",
       "    </tr>\n",
       "    <tr>\n",
       "      <th>4</th>\n",
       "      <td>9988021</td>\n",
       "      <td>580560515_7732621733</td>\n",
       "      <td>781255054_21935453173_531117</td>\n",
       "      <td>step_3</td>\n",
       "      <td>2017-04-17 15:18:04</td>\n",
       "    </tr>\n",
       "    <tr>\n",
       "      <th>...</th>\n",
       "      <td>...</td>\n",
       "      <td>...</td>\n",
       "      <td>...</td>\n",
       "      <td>...</td>\n",
       "      <td>...</td>\n",
       "    </tr>\n",
       "    <tr>\n",
       "      <th>755401</th>\n",
       "      <td>9668240</td>\n",
       "      <td>388766751_9038881013</td>\n",
       "      <td>922267647_3096648104_968866</td>\n",
       "      <td>start</td>\n",
       "      <td>2017-05-24 18:46:10</td>\n",
       "    </tr>\n",
       "    <tr>\n",
       "      <th>755402</th>\n",
       "      <td>9668240</td>\n",
       "      <td>388766751_9038881013</td>\n",
       "      <td>922267647_3096648104_968866</td>\n",
       "      <td>start</td>\n",
       "      <td>2017-05-24 18:45:29</td>\n",
       "    </tr>\n",
       "    <tr>\n",
       "      <th>755403</th>\n",
       "      <td>9668240</td>\n",
       "      <td>388766751_9038881013</td>\n",
       "      <td>922267647_3096648104_968866</td>\n",
       "      <td>step_1</td>\n",
       "      <td>2017-05-24 18:44:51</td>\n",
       "    </tr>\n",
       "    <tr>\n",
       "      <th>755404</th>\n",
       "      <td>9668240</td>\n",
       "      <td>388766751_9038881013</td>\n",
       "      <td>922267647_3096648104_968866</td>\n",
       "      <td>start</td>\n",
       "      <td>2017-05-24 18:44:34</td>\n",
       "    </tr>\n",
       "    <tr>\n",
       "      <th>755405</th>\n",
       "      <td>674799</td>\n",
       "      <td>947159805_81558194550</td>\n",
       "      <td>86152093_47511127657_716022</td>\n",
       "      <td>start</td>\n",
       "      <td>2017-06-03 12:17:09</td>\n",
       "    </tr>\n",
       "  </tbody>\n",
       "</table>\n",
       "<p>755406 rows × 5 columns</p>\n",
       "</div>"
      ],
      "text/plain": [
       "       client_id             visitor_id                      visit_id  \\\n",
       "0        9988021   580560515_7732621733  781255054_21935453173_531117   \n",
       "1        9988021   580560515_7732621733  781255054_21935453173_531117   \n",
       "2        9988021   580560515_7732621733  781255054_21935453173_531117   \n",
       "3        9988021   580560515_7732621733  781255054_21935453173_531117   \n",
       "4        9988021   580560515_7732621733  781255054_21935453173_531117   \n",
       "...          ...                    ...                           ...   \n",
       "755401   9668240   388766751_9038881013   922267647_3096648104_968866   \n",
       "755402   9668240   388766751_9038881013   922267647_3096648104_968866   \n",
       "755403   9668240   388766751_9038881013   922267647_3096648104_968866   \n",
       "755404   9668240   388766751_9038881013   922267647_3096648104_968866   \n",
       "755405    674799  947159805_81558194550   86152093_47511127657_716022   \n",
       "\n",
       "       process_step            date_time  \n",
       "0            step_3  2017-04-17 15:27:07  \n",
       "1            step_2  2017-04-17 15:26:51  \n",
       "2            step_3  2017-04-17 15:19:22  \n",
       "3            step_2  2017-04-17 15:19:13  \n",
       "4            step_3  2017-04-17 15:18:04  \n",
       "...             ...                  ...  \n",
       "755401        start  2017-05-24 18:46:10  \n",
       "755402        start  2017-05-24 18:45:29  \n",
       "755403       step_1  2017-05-24 18:44:51  \n",
       "755404        start  2017-05-24 18:44:34  \n",
       "755405        start  2017-06-03 12:17:09  \n",
       "\n",
       "[755406 rows x 5 columns]"
      ]
     },
     "execution_count": 3,
     "metadata": {},
     "output_type": "execute_result"
    }
   ],
   "source": [
    "df_fw_dm"
   ]
  },
  {
   "cell_type": "code",
   "execution_count": 4,
   "id": "196934cf",
   "metadata": {},
   "outputs": [
    {
     "data": {
      "text/html": [
       "<div>\n",
       "<style scoped>\n",
       "    .dataframe tbody tr th:only-of-type {\n",
       "        vertical-align: middle;\n",
       "    }\n",
       "\n",
       "    .dataframe tbody tr th {\n",
       "        vertical-align: top;\n",
       "    }\n",
       "\n",
       "    .dataframe thead th {\n",
       "        text-align: right;\n",
       "    }\n",
       "</style>\n",
       "<table border=\"1\" class=\"dataframe\">\n",
       "  <thead>\n",
       "    <tr style=\"text-align: right;\">\n",
       "      <th></th>\n",
       "      <th>client_id</th>\n",
       "      <th>Variation</th>\n",
       "    </tr>\n",
       "  </thead>\n",
       "  <tbody>\n",
       "    <tr>\n",
       "      <th>0</th>\n",
       "      <td>9988021</td>\n",
       "      <td>Test</td>\n",
       "    </tr>\n",
       "    <tr>\n",
       "      <th>1</th>\n",
       "      <td>8320017</td>\n",
       "      <td>Test</td>\n",
       "    </tr>\n",
       "    <tr>\n",
       "      <th>2</th>\n",
       "      <td>4033851</td>\n",
       "      <td>Control</td>\n",
       "    </tr>\n",
       "    <tr>\n",
       "      <th>3</th>\n",
       "      <td>1982004</td>\n",
       "      <td>Test</td>\n",
       "    </tr>\n",
       "    <tr>\n",
       "      <th>4</th>\n",
       "      <td>9294070</td>\n",
       "      <td>Control</td>\n",
       "    </tr>\n",
       "    <tr>\n",
       "      <th>...</th>\n",
       "      <td>...</td>\n",
       "      <td>...</td>\n",
       "    </tr>\n",
       "    <tr>\n",
       "      <th>70604</th>\n",
       "      <td>2443347</td>\n",
       "      <td>NaN</td>\n",
       "    </tr>\n",
       "    <tr>\n",
       "      <th>70605</th>\n",
       "      <td>8788427</td>\n",
       "      <td>NaN</td>\n",
       "    </tr>\n",
       "    <tr>\n",
       "      <th>70606</th>\n",
       "      <td>266828</td>\n",
       "      <td>NaN</td>\n",
       "    </tr>\n",
       "    <tr>\n",
       "      <th>70607</th>\n",
       "      <td>1266421</td>\n",
       "      <td>NaN</td>\n",
       "    </tr>\n",
       "    <tr>\n",
       "      <th>70608</th>\n",
       "      <td>9895983</td>\n",
       "      <td>NaN</td>\n",
       "    </tr>\n",
       "  </tbody>\n",
       "</table>\n",
       "<p>70609 rows × 2 columns</p>\n",
       "</div>"
      ],
      "text/plain": [
       "       client_id Variation\n",
       "0        9988021      Test\n",
       "1        8320017      Test\n",
       "2        4033851   Control\n",
       "3        1982004      Test\n",
       "4        9294070   Control\n",
       "...          ...       ...\n",
       "70604    2443347       NaN\n",
       "70605    8788427       NaN\n",
       "70606     266828       NaN\n",
       "70607    1266421       NaN\n",
       "70608    9895983       NaN\n",
       "\n",
       "[70609 rows x 2 columns]"
      ]
     },
     "execution_count": 4,
     "metadata": {},
     "output_type": "execute_result"
    }
   ],
   "source": [
    "df_fe_c"
   ]
  },
  {
   "cell_type": "markdown",
   "id": "7bfdf101",
   "metadata": {},
   "source": [
    "The marked client ID's are the one that were in the test, the others were not in the test"
   ]
  },
  {
   "cell_type": "code",
   "execution_count": 5,
   "id": "0fe36a6a",
   "metadata": {},
   "outputs": [
    {
     "data": {
      "text/html": [
       "<div>\n",
       "<style scoped>\n",
       "    .dataframe tbody tr th:only-of-type {\n",
       "        vertical-align: middle;\n",
       "    }\n",
       "\n",
       "    .dataframe tbody tr th {\n",
       "        vertical-align: top;\n",
       "    }\n",
       "\n",
       "    .dataframe thead th {\n",
       "        text-align: right;\n",
       "    }\n",
       "</style>\n",
       "<table border=\"1\" class=\"dataframe\">\n",
       "  <thead>\n",
       "    <tr style=\"text-align: right;\">\n",
       "      <th></th>\n",
       "      <th>client_id</th>\n",
       "      <th>clnt_tenure_yr</th>\n",
       "      <th>clnt_tenure_mnth</th>\n",
       "      <th>clnt_age</th>\n",
       "      <th>gendr</th>\n",
       "      <th>num_accts</th>\n",
       "      <th>bal</th>\n",
       "      <th>calls_6_mnth</th>\n",
       "      <th>logons_6_mnth</th>\n",
       "    </tr>\n",
       "  </thead>\n",
       "  <tbody>\n",
       "    <tr>\n",
       "      <th>0</th>\n",
       "      <td>836976</td>\n",
       "      <td>6.0</td>\n",
       "      <td>73.0</td>\n",
       "      <td>60.5</td>\n",
       "      <td>U</td>\n",
       "      <td>2.0</td>\n",
       "      <td>45105.30</td>\n",
       "      <td>6.0</td>\n",
       "      <td>9.0</td>\n",
       "    </tr>\n",
       "    <tr>\n",
       "      <th>1</th>\n",
       "      <td>2304905</td>\n",
       "      <td>7.0</td>\n",
       "      <td>94.0</td>\n",
       "      <td>58.0</td>\n",
       "      <td>U</td>\n",
       "      <td>2.0</td>\n",
       "      <td>110860.30</td>\n",
       "      <td>6.0</td>\n",
       "      <td>9.0</td>\n",
       "    </tr>\n",
       "    <tr>\n",
       "      <th>2</th>\n",
       "      <td>1439522</td>\n",
       "      <td>5.0</td>\n",
       "      <td>64.0</td>\n",
       "      <td>32.0</td>\n",
       "      <td>U</td>\n",
       "      <td>2.0</td>\n",
       "      <td>52467.79</td>\n",
       "      <td>6.0</td>\n",
       "      <td>9.0</td>\n",
       "    </tr>\n",
       "    <tr>\n",
       "      <th>3</th>\n",
       "      <td>1562045</td>\n",
       "      <td>16.0</td>\n",
       "      <td>198.0</td>\n",
       "      <td>49.0</td>\n",
       "      <td>M</td>\n",
       "      <td>2.0</td>\n",
       "      <td>67454.65</td>\n",
       "      <td>3.0</td>\n",
       "      <td>6.0</td>\n",
       "    </tr>\n",
       "    <tr>\n",
       "      <th>4</th>\n",
       "      <td>5126305</td>\n",
       "      <td>12.0</td>\n",
       "      <td>145.0</td>\n",
       "      <td>33.0</td>\n",
       "      <td>F</td>\n",
       "      <td>2.0</td>\n",
       "      <td>103671.75</td>\n",
       "      <td>0.0</td>\n",
       "      <td>3.0</td>\n",
       "    </tr>\n",
       "    <tr>\n",
       "      <th>...</th>\n",
       "      <td>...</td>\n",
       "      <td>...</td>\n",
       "      <td>...</td>\n",
       "      <td>...</td>\n",
       "      <td>...</td>\n",
       "      <td>...</td>\n",
       "      <td>...</td>\n",
       "      <td>...</td>\n",
       "      <td>...</td>\n",
       "    </tr>\n",
       "    <tr>\n",
       "      <th>70604</th>\n",
       "      <td>7993686</td>\n",
       "      <td>4.0</td>\n",
       "      <td>56.0</td>\n",
       "      <td>38.5</td>\n",
       "      <td>U</td>\n",
       "      <td>3.0</td>\n",
       "      <td>1411062.68</td>\n",
       "      <td>5.0</td>\n",
       "      <td>5.0</td>\n",
       "    </tr>\n",
       "    <tr>\n",
       "      <th>70605</th>\n",
       "      <td>8981690</td>\n",
       "      <td>12.0</td>\n",
       "      <td>148.0</td>\n",
       "      <td>31.0</td>\n",
       "      <td>M</td>\n",
       "      <td>2.0</td>\n",
       "      <td>101867.07</td>\n",
       "      <td>6.0</td>\n",
       "      <td>6.0</td>\n",
       "    </tr>\n",
       "    <tr>\n",
       "      <th>70606</th>\n",
       "      <td>333913</td>\n",
       "      <td>16.0</td>\n",
       "      <td>198.0</td>\n",
       "      <td>61.5</td>\n",
       "      <td>F</td>\n",
       "      <td>2.0</td>\n",
       "      <td>40745.00</td>\n",
       "      <td>3.0</td>\n",
       "      <td>3.0</td>\n",
       "    </tr>\n",
       "    <tr>\n",
       "      <th>70607</th>\n",
       "      <td>1573142</td>\n",
       "      <td>21.0</td>\n",
       "      <td>255.0</td>\n",
       "      <td>68.0</td>\n",
       "      <td>M</td>\n",
       "      <td>3.0</td>\n",
       "      <td>475114.69</td>\n",
       "      <td>4.0</td>\n",
       "      <td>4.0</td>\n",
       "    </tr>\n",
       "    <tr>\n",
       "      <th>70608</th>\n",
       "      <td>5602139</td>\n",
       "      <td>21.0</td>\n",
       "      <td>254.0</td>\n",
       "      <td>59.5</td>\n",
       "      <td>F</td>\n",
       "      <td>3.0</td>\n",
       "      <td>157498.73</td>\n",
       "      <td>7.0</td>\n",
       "      <td>7.0</td>\n",
       "    </tr>\n",
       "  </tbody>\n",
       "</table>\n",
       "<p>70609 rows × 9 columns</p>\n",
       "</div>"
      ],
      "text/plain": [
       "       client_id  clnt_tenure_yr  clnt_tenure_mnth  clnt_age gendr  num_accts  \\\n",
       "0         836976             6.0              73.0      60.5     U        2.0   \n",
       "1        2304905             7.0              94.0      58.0     U        2.0   \n",
       "2        1439522             5.0              64.0      32.0     U        2.0   \n",
       "3        1562045            16.0             198.0      49.0     M        2.0   \n",
       "4        5126305            12.0             145.0      33.0     F        2.0   \n",
       "...          ...             ...               ...       ...   ...        ...   \n",
       "70604    7993686             4.0              56.0      38.5     U        3.0   \n",
       "70605    8981690            12.0             148.0      31.0     M        2.0   \n",
       "70606     333913            16.0             198.0      61.5     F        2.0   \n",
       "70607    1573142            21.0             255.0      68.0     M        3.0   \n",
       "70608    5602139            21.0             254.0      59.5     F        3.0   \n",
       "\n",
       "              bal  calls_6_mnth  logons_6_mnth  \n",
       "0        45105.30           6.0            9.0  \n",
       "1       110860.30           6.0            9.0  \n",
       "2        52467.79           6.0            9.0  \n",
       "3        67454.65           3.0            6.0  \n",
       "4       103671.75           0.0            3.0  \n",
       "...           ...           ...            ...  \n",
       "70604  1411062.68           5.0            5.0  \n",
       "70605   101867.07           6.0            6.0  \n",
       "70606    40745.00           3.0            3.0  \n",
       "70607   475114.69           4.0            4.0  \n",
       "70608   157498.73           7.0            7.0  \n",
       "\n",
       "[70609 rows x 9 columns]"
      ]
     },
     "execution_count": 5,
     "metadata": {},
     "output_type": "execute_result"
    }
   ],
   "source": [
    "df_fd"
   ]
  },
  {
   "cell_type": "code",
   "execution_count": 6,
   "id": "0cea2654",
   "metadata": {},
   "outputs": [
    {
     "data": {
      "text/plain": [
       "client_id       0\n",
       "visitor_id      0\n",
       "visit_id        0\n",
       "process_step    0\n",
       "date_time       0\n",
       "dtype: int64"
      ]
     },
     "execution_count": 6,
     "metadata": {},
     "output_type": "execute_result"
    }
   ],
   "source": [
    "df_fw_dm.isnull().sum()"
   ]
  },
  {
   "cell_type": "code",
   "execution_count": 7,
   "id": "92c2230a",
   "metadata": {},
   "outputs": [
    {
     "data": {
      "text/html": [
       "<div>\n",
       "<style scoped>\n",
       "    .dataframe tbody tr th:only-of-type {\n",
       "        vertical-align: middle;\n",
       "    }\n",
       "\n",
       "    .dataframe tbody tr th {\n",
       "        vertical-align: top;\n",
       "    }\n",
       "\n",
       "    .dataframe thead th {\n",
       "        text-align: right;\n",
       "    }\n",
       "</style>\n",
       "<table border=\"1\" class=\"dataframe\">\n",
       "  <thead>\n",
       "    <tr style=\"text-align: right;\">\n",
       "      <th></th>\n",
       "      <th>client_id</th>\n",
       "      <th>visitor_id</th>\n",
       "      <th>visit_id</th>\n",
       "      <th>process_step</th>\n",
       "      <th>date_time</th>\n",
       "    </tr>\n",
       "  </thead>\n",
       "  <tbody>\n",
       "    <tr>\n",
       "      <th>0</th>\n",
       "      <td>9988021</td>\n",
       "      <td>580560515_7732621733</td>\n",
       "      <td>781255054_21935453173_531117</td>\n",
       "      <td>step_3</td>\n",
       "      <td>2017-04-17 15:27:07</td>\n",
       "    </tr>\n",
       "    <tr>\n",
       "      <th>1</th>\n",
       "      <td>9988021</td>\n",
       "      <td>580560515_7732621733</td>\n",
       "      <td>781255054_21935453173_531117</td>\n",
       "      <td>step_2</td>\n",
       "      <td>2017-04-17 15:26:51</td>\n",
       "    </tr>\n",
       "    <tr>\n",
       "      <th>2</th>\n",
       "      <td>9988021</td>\n",
       "      <td>580560515_7732621733</td>\n",
       "      <td>781255054_21935453173_531117</td>\n",
       "      <td>step_3</td>\n",
       "      <td>2017-04-17 15:19:22</td>\n",
       "    </tr>\n",
       "    <tr>\n",
       "      <th>3</th>\n",
       "      <td>9988021</td>\n",
       "      <td>580560515_7732621733</td>\n",
       "      <td>781255054_21935453173_531117</td>\n",
       "      <td>step_2</td>\n",
       "      <td>2017-04-17 15:19:13</td>\n",
       "    </tr>\n",
       "    <tr>\n",
       "      <th>4</th>\n",
       "      <td>9988021</td>\n",
       "      <td>580560515_7732621733</td>\n",
       "      <td>781255054_21935453173_531117</td>\n",
       "      <td>step_3</td>\n",
       "      <td>2017-04-17 15:18:04</td>\n",
       "    </tr>\n",
       "    <tr>\n",
       "      <th>...</th>\n",
       "      <td>...</td>\n",
       "      <td>...</td>\n",
       "      <td>...</td>\n",
       "      <td>...</td>\n",
       "      <td>...</td>\n",
       "    </tr>\n",
       "    <tr>\n",
       "      <th>755401</th>\n",
       "      <td>9668240</td>\n",
       "      <td>388766751_9038881013</td>\n",
       "      <td>922267647_3096648104_968866</td>\n",
       "      <td>start</td>\n",
       "      <td>2017-05-24 18:46:10</td>\n",
       "    </tr>\n",
       "    <tr>\n",
       "      <th>755402</th>\n",
       "      <td>9668240</td>\n",
       "      <td>388766751_9038881013</td>\n",
       "      <td>922267647_3096648104_968866</td>\n",
       "      <td>start</td>\n",
       "      <td>2017-05-24 18:45:29</td>\n",
       "    </tr>\n",
       "    <tr>\n",
       "      <th>755403</th>\n",
       "      <td>9668240</td>\n",
       "      <td>388766751_9038881013</td>\n",
       "      <td>922267647_3096648104_968866</td>\n",
       "      <td>step_1</td>\n",
       "      <td>2017-05-24 18:44:51</td>\n",
       "    </tr>\n",
       "    <tr>\n",
       "      <th>755404</th>\n",
       "      <td>9668240</td>\n",
       "      <td>388766751_9038881013</td>\n",
       "      <td>922267647_3096648104_968866</td>\n",
       "      <td>start</td>\n",
       "      <td>2017-05-24 18:44:34</td>\n",
       "    </tr>\n",
       "    <tr>\n",
       "      <th>755405</th>\n",
       "      <td>674799</td>\n",
       "      <td>947159805_81558194550</td>\n",
       "      <td>86152093_47511127657_716022</td>\n",
       "      <td>start</td>\n",
       "      <td>2017-06-03 12:17:09</td>\n",
       "    </tr>\n",
       "  </tbody>\n",
       "</table>\n",
       "<p>755406 rows × 5 columns</p>\n",
       "</div>"
      ],
      "text/plain": [
       "       client_id             visitor_id                      visit_id  \\\n",
       "0        9988021   580560515_7732621733  781255054_21935453173_531117   \n",
       "1        9988021   580560515_7732621733  781255054_21935453173_531117   \n",
       "2        9988021   580560515_7732621733  781255054_21935453173_531117   \n",
       "3        9988021   580560515_7732621733  781255054_21935453173_531117   \n",
       "4        9988021   580560515_7732621733  781255054_21935453173_531117   \n",
       "...          ...                    ...                           ...   \n",
       "755401   9668240   388766751_9038881013   922267647_3096648104_968866   \n",
       "755402   9668240   388766751_9038881013   922267647_3096648104_968866   \n",
       "755403   9668240   388766751_9038881013   922267647_3096648104_968866   \n",
       "755404   9668240   388766751_9038881013   922267647_3096648104_968866   \n",
       "755405    674799  947159805_81558194550   86152093_47511127657_716022   \n",
       "\n",
       "       process_step            date_time  \n",
       "0            step_3  2017-04-17 15:27:07  \n",
       "1            step_2  2017-04-17 15:26:51  \n",
       "2            step_3  2017-04-17 15:19:22  \n",
       "3            step_2  2017-04-17 15:19:13  \n",
       "4            step_3  2017-04-17 15:18:04  \n",
       "...             ...                  ...  \n",
       "755401        start  2017-05-24 18:46:10  \n",
       "755402        start  2017-05-24 18:45:29  \n",
       "755403       step_1  2017-05-24 18:44:51  \n",
       "755404        start  2017-05-24 18:44:34  \n",
       "755405        start  2017-06-03 12:17:09  \n",
       "\n",
       "[755406 rows x 5 columns]"
      ]
     },
     "execution_count": 7,
     "metadata": {},
     "output_type": "execute_result"
    }
   ],
   "source": [
    "df_fw_dm"
   ]
  },
  {
   "cell_type": "code",
   "execution_count": 43,
   "id": "bfbe0a58",
   "metadata": {},
   "outputs": [],
   "source": [
    "df_fw_dm.drop([343141], inplace = True)"
   ]
  },
  {
   "cell_type": "code",
   "execution_count": 8,
   "id": "1217cd14",
   "metadata": {},
   "outputs": [
    {
     "data": {
      "text/html": [
       "<div>\n",
       "<style scoped>\n",
       "    .dataframe tbody tr th:only-of-type {\n",
       "        vertical-align: middle;\n",
       "    }\n",
       "\n",
       "    .dataframe tbody tr th {\n",
       "        vertical-align: top;\n",
       "    }\n",
       "\n",
       "    .dataframe thead th {\n",
       "        text-align: right;\n",
       "    }\n",
       "</style>\n",
       "<table border=\"1\" class=\"dataframe\">\n",
       "  <thead>\n",
       "    <tr style=\"text-align: right;\">\n",
       "      <th></th>\n",
       "      <th>count</th>\n",
       "      <th>mean</th>\n",
       "      <th>std</th>\n",
       "      <th>min</th>\n",
       "      <th>25%</th>\n",
       "      <th>50%</th>\n",
       "      <th>75%</th>\n",
       "      <th>max</th>\n",
       "    </tr>\n",
       "  </thead>\n",
       "  <tbody>\n",
       "    <tr>\n",
       "      <th>client_id</th>\n",
       "      <td>70609.00</td>\n",
       "      <td>5004991.88</td>\n",
       "      <td>2877277.63</td>\n",
       "      <td>169.00</td>\n",
       "      <td>2519329.00</td>\n",
       "      <td>5016978.00</td>\n",
       "      <td>7483085.00</td>\n",
       "      <td>9999839.00</td>\n",
       "    </tr>\n",
       "    <tr>\n",
       "      <th>clnt_tenure_yr</th>\n",
       "      <td>70595.00</td>\n",
       "      <td>12.05</td>\n",
       "      <td>6.87</td>\n",
       "      <td>2.00</td>\n",
       "      <td>6.00</td>\n",
       "      <td>11.00</td>\n",
       "      <td>16.00</td>\n",
       "      <td>62.00</td>\n",
       "    </tr>\n",
       "    <tr>\n",
       "      <th>clnt_tenure_mnth</th>\n",
       "      <td>70595.00</td>\n",
       "      <td>150.66</td>\n",
       "      <td>82.09</td>\n",
       "      <td>33.00</td>\n",
       "      <td>82.00</td>\n",
       "      <td>136.00</td>\n",
       "      <td>192.00</td>\n",
       "      <td>749.00</td>\n",
       "    </tr>\n",
       "    <tr>\n",
       "      <th>clnt_age</th>\n",
       "      <td>70594.00</td>\n",
       "      <td>46.44</td>\n",
       "      <td>15.59</td>\n",
       "      <td>13.50</td>\n",
       "      <td>32.50</td>\n",
       "      <td>47.00</td>\n",
       "      <td>59.00</td>\n",
       "      <td>96.00</td>\n",
       "    </tr>\n",
       "    <tr>\n",
       "      <th>num_accts</th>\n",
       "      <td>70595.00</td>\n",
       "      <td>2.26</td>\n",
       "      <td>0.53</td>\n",
       "      <td>1.00</td>\n",
       "      <td>2.00</td>\n",
       "      <td>2.00</td>\n",
       "      <td>2.00</td>\n",
       "      <td>8.00</td>\n",
       "    </tr>\n",
       "    <tr>\n",
       "      <th>bal</th>\n",
       "      <td>70595.00</td>\n",
       "      <td>147445.24</td>\n",
       "      <td>301508.71</td>\n",
       "      <td>13789.42</td>\n",
       "      <td>37346.83</td>\n",
       "      <td>63332.90</td>\n",
       "      <td>137544.90</td>\n",
       "      <td>16320040.15</td>\n",
       "    </tr>\n",
       "    <tr>\n",
       "      <th>calls_6_mnth</th>\n",
       "      <td>70595.00</td>\n",
       "      <td>3.38</td>\n",
       "      <td>2.24</td>\n",
       "      <td>0.00</td>\n",
       "      <td>1.00</td>\n",
       "      <td>3.00</td>\n",
       "      <td>6.00</td>\n",
       "      <td>7.00</td>\n",
       "    </tr>\n",
       "    <tr>\n",
       "      <th>logons_6_mnth</th>\n",
       "      <td>70595.00</td>\n",
       "      <td>5.57</td>\n",
       "      <td>2.35</td>\n",
       "      <td>1.00</td>\n",
       "      <td>4.00</td>\n",
       "      <td>5.00</td>\n",
       "      <td>7.00</td>\n",
       "      <td>9.00</td>\n",
       "    </tr>\n",
       "  </tbody>\n",
       "</table>\n",
       "</div>"
      ],
      "text/plain": [
       "                    count       mean        std      min        25%  \\\n",
       "client_id        70609.00 5004991.88 2877277.63   169.00 2519329.00   \n",
       "clnt_tenure_yr   70595.00      12.05       6.87     2.00       6.00   \n",
       "clnt_tenure_mnth 70595.00     150.66      82.09    33.00      82.00   \n",
       "clnt_age         70594.00      46.44      15.59    13.50      32.50   \n",
       "num_accts        70595.00       2.26       0.53     1.00       2.00   \n",
       "bal              70595.00  147445.24  301508.71 13789.42   37346.83   \n",
       "calls_6_mnth     70595.00       3.38       2.24     0.00       1.00   \n",
       "logons_6_mnth    70595.00       5.57       2.35     1.00       4.00   \n",
       "\n",
       "                        50%        75%         max  \n",
       "client_id        5016978.00 7483085.00  9999839.00  \n",
       "clnt_tenure_yr        11.00      16.00       62.00  \n",
       "clnt_tenure_mnth     136.00     192.00      749.00  \n",
       "clnt_age              47.00      59.00       96.00  \n",
       "num_accts              2.00       2.00        8.00  \n",
       "bal                63332.90  137544.90 16320040.15  \n",
       "calls_6_mnth           3.00       6.00        7.00  \n",
       "logons_6_mnth          5.00       7.00        9.00  "
      ]
     },
     "execution_count": 8,
     "metadata": {},
     "output_type": "execute_result"
    }
   ],
   "source": [
    "# use this to change the scientific notation\n",
    "pd.set_option('display.float_format', '{:.2f}'.format)\n",
    "df_fd.describe().T"
   ]
  },
  {
   "cell_type": "code",
   "execution_count": 10,
   "id": "c4053d29",
   "metadata": {},
   "outputs": [],
   "source": [
    "df_sub = df_fd[df_fd['bal'].isnull()]"
   ]
  },
  {
   "cell_type": "code",
   "execution_count": 11,
   "id": "e7fb0757",
   "metadata": {},
   "outputs": [
    {
     "data": {
      "text/html": [
       "<div>\n",
       "<style scoped>\n",
       "    .dataframe tbody tr th:only-of-type {\n",
       "        vertical-align: middle;\n",
       "    }\n",
       "\n",
       "    .dataframe tbody tr th {\n",
       "        vertical-align: top;\n",
       "    }\n",
       "\n",
       "    .dataframe thead th {\n",
       "        text-align: right;\n",
       "    }\n",
       "</style>\n",
       "<table border=\"1\" class=\"dataframe\">\n",
       "  <thead>\n",
       "    <tr style=\"text-align: right;\">\n",
       "      <th></th>\n",
       "      <th>client_id</th>\n",
       "      <th>clnt_tenure_yr</th>\n",
       "      <th>clnt_tenure_mnth</th>\n",
       "      <th>clnt_age</th>\n",
       "      <th>gendr</th>\n",
       "      <th>num_accts</th>\n",
       "      <th>bal</th>\n",
       "      <th>calls_6_mnth</th>\n",
       "      <th>logons_6_mnth</th>\n",
       "    </tr>\n",
       "  </thead>\n",
       "  <tbody>\n",
       "  </tbody>\n",
       "</table>\n",
       "</div>"
      ],
      "text/plain": [
       "Empty DataFrame\n",
       "Columns: [client_id, clnt_tenure_yr, clnt_tenure_mnth, clnt_age, gendr, num_accts, bal, calls_6_mnth, logons_6_mnth]\n",
       "Index: []"
      ]
     },
     "execution_count": 11,
     "metadata": {},
     "output_type": "execute_result"
    }
   ],
   "source": [
    "df_sub"
   ]
  },
  {
   "cell_type": "code",
   "execution_count": 12,
   "id": "a59ebfd0",
   "metadata": {},
   "outputs": [],
   "source": [
    "df_fd.dropna(inplace = True)"
   ]
  },
  {
   "cell_type": "code",
   "execution_count": 13,
   "id": "7587e3c9",
   "metadata": {},
   "outputs": [
    {
     "data": {
      "text/plain": [
       "client_id           0\n",
       "clnt_tenure_yr      0\n",
       "clnt_tenure_mnth    0\n",
       "clnt_age            0\n",
       "gendr               0\n",
       "num_accts           0\n",
       "bal                 0\n",
       "calls_6_mnth        0\n",
       "logons_6_mnth       0\n",
       "dtype: int64"
      ]
     },
     "execution_count": 13,
     "metadata": {},
     "output_type": "execute_result"
    }
   ],
   "source": [
    "df_fd.isnull().sum()"
   ]
  },
  {
   "cell_type": "code",
   "execution_count": 14,
   "id": "27c4003d",
   "metadata": {},
   "outputs": [],
   "source": [
    "df_fd = df_fd.astype({'clnt_tenure_yr': int,'clnt_tenure_mnth': int,'clnt_age': int,'calls_6_mnth': int,'logons_6_mnth': int,'num_accts': int })\n"
   ]
  },
  {
   "cell_type": "code",
   "execution_count": 15,
   "id": "0a9f8180",
   "metadata": {},
   "outputs": [
    {
     "data": {
      "text/html": [
       "<div>\n",
       "<style scoped>\n",
       "    .dataframe tbody tr th:only-of-type {\n",
       "        vertical-align: middle;\n",
       "    }\n",
       "\n",
       "    .dataframe tbody tr th {\n",
       "        vertical-align: top;\n",
       "    }\n",
       "\n",
       "    .dataframe thead th {\n",
       "        text-align: right;\n",
       "    }\n",
       "</style>\n",
       "<table border=\"1\" class=\"dataframe\">\n",
       "  <thead>\n",
       "    <tr style=\"text-align: right;\">\n",
       "      <th></th>\n",
       "      <th>client_id</th>\n",
       "      <th>clnt_tenure_yr</th>\n",
       "      <th>clnt_tenure_mnth</th>\n",
       "      <th>clnt_age</th>\n",
       "      <th>gendr</th>\n",
       "      <th>num_accts</th>\n",
       "      <th>bal</th>\n",
       "      <th>calls_6_mnth</th>\n",
       "      <th>logons_6_mnth</th>\n",
       "    </tr>\n",
       "  </thead>\n",
       "  <tbody>\n",
       "    <tr>\n",
       "      <th>0</th>\n",
       "      <td>836976</td>\n",
       "      <td>6</td>\n",
       "      <td>73</td>\n",
       "      <td>60</td>\n",
       "      <td>U</td>\n",
       "      <td>2</td>\n",
       "      <td>45105.30</td>\n",
       "      <td>6</td>\n",
       "      <td>9</td>\n",
       "    </tr>\n",
       "    <tr>\n",
       "      <th>1</th>\n",
       "      <td>2304905</td>\n",
       "      <td>7</td>\n",
       "      <td>94</td>\n",
       "      <td>58</td>\n",
       "      <td>U</td>\n",
       "      <td>2</td>\n",
       "      <td>110860.30</td>\n",
       "      <td>6</td>\n",
       "      <td>9</td>\n",
       "    </tr>\n",
       "    <tr>\n",
       "      <th>2</th>\n",
       "      <td>1439522</td>\n",
       "      <td>5</td>\n",
       "      <td>64</td>\n",
       "      <td>32</td>\n",
       "      <td>U</td>\n",
       "      <td>2</td>\n",
       "      <td>52467.79</td>\n",
       "      <td>6</td>\n",
       "      <td>9</td>\n",
       "    </tr>\n",
       "    <tr>\n",
       "      <th>3</th>\n",
       "      <td>1562045</td>\n",
       "      <td>16</td>\n",
       "      <td>198</td>\n",
       "      <td>49</td>\n",
       "      <td>M</td>\n",
       "      <td>2</td>\n",
       "      <td>67454.65</td>\n",
       "      <td>3</td>\n",
       "      <td>6</td>\n",
       "    </tr>\n",
       "    <tr>\n",
       "      <th>4</th>\n",
       "      <td>5126305</td>\n",
       "      <td>12</td>\n",
       "      <td>145</td>\n",
       "      <td>33</td>\n",
       "      <td>F</td>\n",
       "      <td>2</td>\n",
       "      <td>103671.75</td>\n",
       "      <td>0</td>\n",
       "      <td>3</td>\n",
       "    </tr>\n",
       "    <tr>\n",
       "      <th>...</th>\n",
       "      <td>...</td>\n",
       "      <td>...</td>\n",
       "      <td>...</td>\n",
       "      <td>...</td>\n",
       "      <td>...</td>\n",
       "      <td>...</td>\n",
       "      <td>...</td>\n",
       "      <td>...</td>\n",
       "      <td>...</td>\n",
       "    </tr>\n",
       "    <tr>\n",
       "      <th>70604</th>\n",
       "      <td>7993686</td>\n",
       "      <td>4</td>\n",
       "      <td>56</td>\n",
       "      <td>38</td>\n",
       "      <td>U</td>\n",
       "      <td>3</td>\n",
       "      <td>1411062.68</td>\n",
       "      <td>5</td>\n",
       "      <td>5</td>\n",
       "    </tr>\n",
       "    <tr>\n",
       "      <th>70605</th>\n",
       "      <td>8981690</td>\n",
       "      <td>12</td>\n",
       "      <td>148</td>\n",
       "      <td>31</td>\n",
       "      <td>M</td>\n",
       "      <td>2</td>\n",
       "      <td>101867.07</td>\n",
       "      <td>6</td>\n",
       "      <td>6</td>\n",
       "    </tr>\n",
       "    <tr>\n",
       "      <th>70606</th>\n",
       "      <td>333913</td>\n",
       "      <td>16</td>\n",
       "      <td>198</td>\n",
       "      <td>61</td>\n",
       "      <td>F</td>\n",
       "      <td>2</td>\n",
       "      <td>40745.00</td>\n",
       "      <td>3</td>\n",
       "      <td>3</td>\n",
       "    </tr>\n",
       "    <tr>\n",
       "      <th>70607</th>\n",
       "      <td>1573142</td>\n",
       "      <td>21</td>\n",
       "      <td>255</td>\n",
       "      <td>68</td>\n",
       "      <td>M</td>\n",
       "      <td>3</td>\n",
       "      <td>475114.69</td>\n",
       "      <td>4</td>\n",
       "      <td>4</td>\n",
       "    </tr>\n",
       "    <tr>\n",
       "      <th>70608</th>\n",
       "      <td>5602139</td>\n",
       "      <td>21</td>\n",
       "      <td>254</td>\n",
       "      <td>59</td>\n",
       "      <td>F</td>\n",
       "      <td>3</td>\n",
       "      <td>157498.73</td>\n",
       "      <td>7</td>\n",
       "      <td>7</td>\n",
       "    </tr>\n",
       "  </tbody>\n",
       "</table>\n",
       "<p>70594 rows × 9 columns</p>\n",
       "</div>"
      ],
      "text/plain": [
       "       client_id  clnt_tenure_yr  clnt_tenure_mnth  clnt_age gendr  num_accts  \\\n",
       "0         836976               6                73        60     U          2   \n",
       "1        2304905               7                94        58     U          2   \n",
       "2        1439522               5                64        32     U          2   \n",
       "3        1562045              16               198        49     M          2   \n",
       "4        5126305              12               145        33     F          2   \n",
       "...          ...             ...               ...       ...   ...        ...   \n",
       "70604    7993686               4                56        38     U          3   \n",
       "70605    8981690              12               148        31     M          2   \n",
       "70606     333913              16               198        61     F          2   \n",
       "70607    1573142              21               255        68     M          3   \n",
       "70608    5602139              21               254        59     F          3   \n",
       "\n",
       "             bal  calls_6_mnth  logons_6_mnth  \n",
       "0       45105.30             6              9  \n",
       "1      110860.30             6              9  \n",
       "2       52467.79             6              9  \n",
       "3       67454.65             3              6  \n",
       "4      103671.75             0              3  \n",
       "...          ...           ...            ...  \n",
       "70604 1411062.68             5              5  \n",
       "70605  101867.07             6              6  \n",
       "70606   40745.00             3              3  \n",
       "70607  475114.69             4              4  \n",
       "70608  157498.73             7              7  \n",
       "\n",
       "[70594 rows x 9 columns]"
      ]
     },
     "execution_count": 15,
     "metadata": {},
     "output_type": "execute_result"
    }
   ],
   "source": [
    "df_fd"
   ]
  },
  {
   "cell_type": "code",
   "execution_count": 16,
   "id": "04ad4250",
   "metadata": {},
   "outputs": [
    {
     "data": {
      "text/plain": [
       "client_id        0\n",
       "Variation    20109\n",
       "dtype: int64"
      ]
     },
     "execution_count": 16,
     "metadata": {},
     "output_type": "execute_result"
    }
   ],
   "source": [
    "df_fe_c.isnull().sum()"
   ]
  },
  {
   "cell_type": "code",
   "execution_count": 17,
   "id": "4bfb8554",
   "metadata": {},
   "outputs": [],
   "source": [
    "df_fe_c.dropna(inplace = True)"
   ]
  },
  {
   "cell_type": "code",
   "execution_count": 21,
   "id": "2466238c",
   "metadata": {},
   "outputs": [],
   "source": [
    "df_fe_c.rename(columns={'Variation':'variation'}, inplace = True)"
   ]
  },
  {
   "cell_type": "code",
   "execution_count": 22,
   "id": "b4949da6",
   "metadata": {},
   "outputs": [
    {
     "data": {
      "text/html": [
       "<div>\n",
       "<style scoped>\n",
       "    .dataframe tbody tr th:only-of-type {\n",
       "        vertical-align: middle;\n",
       "    }\n",
       "\n",
       "    .dataframe tbody tr th {\n",
       "        vertical-align: top;\n",
       "    }\n",
       "\n",
       "    .dataframe thead th {\n",
       "        text-align: right;\n",
       "    }\n",
       "</style>\n",
       "<table border=\"1\" class=\"dataframe\">\n",
       "  <thead>\n",
       "    <tr style=\"text-align: right;\">\n",
       "      <th></th>\n",
       "      <th>client_id</th>\n",
       "      <th>variation</th>\n",
       "    </tr>\n",
       "  </thead>\n",
       "  <tbody>\n",
       "    <tr>\n",
       "      <th>count</th>\n",
       "      <td>50500.00</td>\n",
       "      <td>50500</td>\n",
       "    </tr>\n",
       "    <tr>\n",
       "      <th>unique</th>\n",
       "      <td>NaN</td>\n",
       "      <td>2</td>\n",
       "    </tr>\n",
       "    <tr>\n",
       "      <th>top</th>\n",
       "      <td>NaN</td>\n",
       "      <td>Test</td>\n",
       "    </tr>\n",
       "    <tr>\n",
       "      <th>freq</th>\n",
       "      <td>NaN</td>\n",
       "      <td>26968</td>\n",
       "    </tr>\n",
       "    <tr>\n",
       "      <th>mean</th>\n",
       "      <td>5006179.06</td>\n",
       "      <td>NaN</td>\n",
       "    </tr>\n",
       "    <tr>\n",
       "      <th>std</th>\n",
       "      <td>2877442.53</td>\n",
       "      <td>NaN</td>\n",
       "    </tr>\n",
       "    <tr>\n",
       "      <th>min</th>\n",
       "      <td>555.00</td>\n",
       "      <td>NaN</td>\n",
       "    </tr>\n",
       "    <tr>\n",
       "      <th>25%</th>\n",
       "      <td>2515645.75</td>\n",
       "      <td>NaN</td>\n",
       "    </tr>\n",
       "    <tr>\n",
       "      <th>50%</th>\n",
       "      <td>5025103.50</td>\n",
       "      <td>NaN</td>\n",
       "    </tr>\n",
       "    <tr>\n",
       "      <th>75%</th>\n",
       "      <td>7477933.25</td>\n",
       "      <td>NaN</td>\n",
       "    </tr>\n",
       "    <tr>\n",
       "      <th>max</th>\n",
       "      <td>9999832.00</td>\n",
       "      <td>NaN</td>\n",
       "    </tr>\n",
       "  </tbody>\n",
       "</table>\n",
       "</div>"
      ],
      "text/plain": [
       "        client_id variation\n",
       "count    50500.00     50500\n",
       "unique        NaN         2\n",
       "top           NaN      Test\n",
       "freq          NaN     26968\n",
       "mean   5006179.06       NaN\n",
       "std    2877442.53       NaN\n",
       "min        555.00       NaN\n",
       "25%    2515645.75       NaN\n",
       "50%    5025103.50       NaN\n",
       "75%    7477933.25       NaN\n",
       "max    9999832.00       NaN"
      ]
     },
     "execution_count": 22,
     "metadata": {},
     "output_type": "execute_result"
    }
   ],
   "source": [
    "df_fe_c.describe(include='all')"
   ]
  },
  {
   "cell_type": "code",
   "execution_count": 26,
   "id": "bbdc9039",
   "metadata": {},
   "outputs": [
    {
     "name": "stderr",
     "output_type": "stream",
     "text": [
      "C:\\Users\\aj824\\AppData\\Local\\Temp\\ipykernel_6572\\1498198497.py:1: FutureWarning: A value is trying to be set on a copy of a DataFrame or Series through chained assignment using an inplace method.\n",
      "The behavior will change in pandas 3.0. This inplace method will never work because the intermediate object on which we are setting values always behaves as a copy.\n",
      "\n",
      "For example, when doing 'df[col].method(value, inplace=True)', try using 'df.method({col: value}, inplace=True)' or df[col] = df[col].method(value) instead, to perform the operation inplace on the original object.\n",
      "\n",
      "\n",
      "  df_fd['gendr'].replace({'X': 'U'}, inplace = True)\n"
     ]
    }
   ],
   "source": [
    "df_fd['gendr'].replace({'X','U'}, inplace = True)"
   ]
  },
  {
   "cell_type": "markdown",
   "id": "55750a6c",
   "metadata": {},
   "source": [
    "### Visualizations"
   ]
  },
  {
   "cell_type": "markdown",
   "id": "d547faa7",
   "metadata": {},
   "source": [
    "**Categorical Values**"
   ]
  },
  {
   "cell_type": "code",
   "execution_count": 23,
   "id": "e60e370e",
   "metadata": {},
   "outputs": [
    {
     "data": {
      "text/plain": [
       "(variation\n",
       " Test       26968\n",
       " Control    23532\n",
       " Name: count, dtype: int64,\n",
       " variation\n",
       " Test      0.53\n",
       " Control   0.47\n",
       " Name: proportion, dtype: float64)"
      ]
     },
     "execution_count": 23,
     "metadata": {},
     "output_type": "execute_result"
    }
   ],
   "source": [
    "frequency_table = df_fe_c['variation'].value_counts()\n",
    "proportion_table = df_fe_c['variation'].value_counts(normalize=True)\n",
    "\n",
    "frequency_table, proportion_table"
   ]
  },
  {
   "cell_type": "code",
   "execution_count": 27,
   "id": "bfd45f6a",
   "metadata": {},
   "outputs": [
    {
     "data": {
      "text/plain": [
       "(gendr\n",
       " U    24125\n",
       " M    23724\n",
       " F    22745\n",
       " Name: count, dtype: int64,\n",
       " gendr\n",
       " U   0.34\n",
       " M   0.34\n",
       " F   0.32\n",
       " Name: proportion, dtype: float64)"
      ]
     },
     "execution_count": 27,
     "metadata": {},
     "output_type": "execute_result"
    }
   ],
   "source": [
    "frequency_gender = df_fd['gendr'].value_counts()\n",
    "proportion_gender = df_fd['gendr'].value_counts(normalize=True)\n",
    "frequency_gender, proportion_gender"
   ]
  },
  {
   "cell_type": "code",
   "execution_count": 44,
   "id": "c13c1c7c",
   "metadata": {},
   "outputs": [
    {
     "data": {
      "text/plain": [
       "(process_step\n",
       " start      243945\n",
       " step_1     163193\n",
       " step_2     133062\n",
       " step_3     112242\n",
       " confirm    102963\n",
       " Name: count, dtype: int64,\n",
       " process_step\n",
       " start     0.32\n",
       " step_1    0.22\n",
       " step_2    0.18\n",
       " step_3    0.15\n",
       " confirm   0.14\n",
       " Name: proportion, dtype: float64)"
      ]
     },
     "execution_count": 44,
     "metadata": {},
     "output_type": "execute_result"
    }
   ],
   "source": [
    "frequency_process_steps = df_fw_dm['process_step'].value_counts()\n",
    "proportion_process_steps = df_fw_dm['process_step'].value_counts(normalize=True)\n",
    "frequency_process_steps, proportion_process_steps"
   ]
  },
  {
   "cell_type": "code",
   "execution_count": 28,
   "id": "d247de33",
   "metadata": {},
   "outputs": [
    {
     "name": "stderr",
     "output_type": "stream",
     "text": [
      "C:\\Users\\aj824\\AppData\\Local\\Temp\\ipykernel_6572\\1484790106.py:2: FutureWarning: \n",
      "\n",
      "Passing `palette` without assigning `hue` is deprecated and will be removed in v0.14.0. Assign the `x` variable to `hue` and set `legend=False` for the same effect.\n",
      "\n",
      "  sns.barplot(x=frequency_table.index, y=frequency_table.values, palette=\"Set3\");\n"
     ]
    },
    {
     "data": {
      "image/png": "[encoded data removed]",
      "text/plain": [
       "<Figure size 640x480 with 1 Axes>"
      ]
     },
     "metadata": {},
     "output_type": "display_data"
    }
   ],
   "source": [
    "# Plotting a bar chart using the values from the frequency table, with colors sourced from the \"Set3\" palette\n",
    "sns.barplot(x=frequency_table.index, y=frequency_table.values, palette=\"Set3\");"
   ]
  },
  {
   "cell_type": "code",
   "execution_count": 34,
   "id": "146be53f",
   "metadata": {},
   "outputs": [
    {
     "name": "stderr",
     "output_type": "stream",
     "text": [
      "C:\\Users\\aj824\\AppData\\Local\\Temp\\ipykernel_6572\\4120208587.py:2: FutureWarning: \n",
      "\n",
      "Passing `palette` without assigning `hue` is deprecated and will be removed in v0.14.0. Assign the `x` variable to `hue` and set `legend=False` for the same effect.\n",
      "\n",
      "  sns.barplot(x=frequency_gender.index, y=frequency_gender.values, palette=\"Set3\");\n"
     ]
    },
    {
     "data": {
      "image/png": "[encoded data removed]",
      "text/plain": [
       "<Figure size 640x480 with 1 Axes>"
      ]
     },
     "metadata": {},
     "output_type": "display_data"
    }
   ],
   "source": [
    "# Plotting a bar chart using the values from the frequency gender table, with colors sourced from the \"Set3\" palette\n",
    "sns.barplot(x=frequency_gender.index, y=frequency_gender.values, palette=\"Set3\");"
   ]
  },
  {
   "cell_type": "code",
   "execution_count": 45,
   "id": "1c1519b6",
   "metadata": {},
   "outputs": [
    {
     "name": "stderr",
     "output_type": "stream",
     "text": [
      "C:\\Users\\aj824\\AppData\\Local\\Temp\\ipykernel_6572\\920025877.py:2: FutureWarning: \n",
      "\n",
      "Passing `palette` without assigning `hue` is deprecated and will be removed in v0.14.0. Assign the `x` variable to `hue` and set `legend=False` for the same effect.\n",
      "\n",
      "  sns.barplot(x=frequency_process_steps.index, y=frequency_process_steps.values, palette=\"Set3\");\n"
     ]
    },
    {
     "data": {
      "image/png": "[encoded data removed]",
      "text/plain": [
       "<Figure size 640x480 with 1 Axes>"
      ]
     },
     "metadata": {},
     "output_type": "display_data"
    }
   ],
   "source": [
    "# Plotting a bar chart using the values from the frequency process steps table, with colors sourced from the \"Set3\" palette\n",
    "sns.barplot(x=frequency_process_steps.index, y=frequency_process_steps.values, palette=\"Set3\");"
   ]
  },
  {
   "cell_type": "markdown",
   "id": "2d6d3ec1",
   "metadata": {},
   "source": [
    "**Numerical Values**"
   ]
  },
  {
   "cell_type": "code",
   "execution_count": 46,
   "id": "dcef8e9d",
   "metadata": {},
   "outputs": [
    {
     "data": {
      "text/html": [
       "<div>\n",
       "<style scoped>\n",
       "    .dataframe tbody tr th:only-of-type {\n",
       "        vertical-align: middle;\n",
       "    }\n",
       "\n",
       "    .dataframe tbody tr th {\n",
       "        vertical-align: top;\n",
       "    }\n",
       "\n",
       "    .dataframe thead th {\n",
       "        text-align: right;\n",
       "    }\n",
       "</style>\n",
       "<table border=\"1\" class=\"dataframe\">\n",
       "  <thead>\n",
       "    <tr style=\"text-align: right;\">\n",
       "      <th></th>\n",
       "      <th>count</th>\n",
       "      <th>mean</th>\n",
       "      <th>std</th>\n",
       "      <th>min</th>\n",
       "      <th>25%</th>\n",
       "      <th>50%</th>\n",
       "      <th>75%</th>\n",
       "      <th>max</th>\n",
       "    </tr>\n",
       "  </thead>\n",
       "  <tbody>\n",
       "    <tr>\n",
       "      <th>client_id</th>\n",
       "      <td>70594.00</td>\n",
       "      <td>5005025.75</td>\n",
       "      <td>2877289.31</td>\n",
       "      <td>169.00</td>\n",
       "      <td>2519542.75</td>\n",
       "      <td>5016973.50</td>\n",
       "      <td>7483074.25</td>\n",
       "      <td>9999839.00</td>\n",
       "    </tr>\n",
       "    <tr>\n",
       "      <th>clnt_tenure_yr</th>\n",
       "      <td>70594.00</td>\n",
       "      <td>12.05</td>\n",
       "      <td>6.87</td>\n",
       "      <td>2.00</td>\n",
       "      <td>6.00</td>\n",
       "      <td>11.00</td>\n",
       "      <td>16.00</td>\n",
       "      <td>62.00</td>\n",
       "    </tr>\n",
       "    <tr>\n",
       "      <th>clnt_tenure_mnth</th>\n",
       "      <td>70594.00</td>\n",
       "      <td>150.66</td>\n",
       "      <td>82.09</td>\n",
       "      <td>33.00</td>\n",
       "      <td>82.00</td>\n",
       "      <td>136.00</td>\n",
       "      <td>192.00</td>\n",
       "      <td>749.00</td>\n",
       "    </tr>\n",
       "    <tr>\n",
       "      <th>clnt_age</th>\n",
       "      <td>70594.00</td>\n",
       "      <td>46.18</td>\n",
       "      <td>15.60</td>\n",
       "      <td>13.00</td>\n",
       "      <td>32.00</td>\n",
       "      <td>47.00</td>\n",
       "      <td>59.00</td>\n",
       "      <td>96.00</td>\n",
       "    </tr>\n",
       "    <tr>\n",
       "      <th>num_accts</th>\n",
       "      <td>70594.00</td>\n",
       "      <td>2.26</td>\n",
       "      <td>0.53</td>\n",
       "      <td>1.00</td>\n",
       "      <td>2.00</td>\n",
       "      <td>2.00</td>\n",
       "      <td>2.00</td>\n",
       "      <td>8.00</td>\n",
       "    </tr>\n",
       "    <tr>\n",
       "      <th>bal</th>\n",
       "      <td>70594.00</td>\n",
       "      <td>147446.73</td>\n",
       "      <td>301510.58</td>\n",
       "      <td>13789.42</td>\n",
       "      <td>37346.60</td>\n",
       "      <td>63334.59</td>\n",
       "      <td>137546.12</td>\n",
       "      <td>16320040.15</td>\n",
       "    </tr>\n",
       "    <tr>\n",
       "      <th>calls_6_mnth</th>\n",
       "      <td>70594.00</td>\n",
       "      <td>3.38</td>\n",
       "      <td>2.24</td>\n",
       "      <td>0.00</td>\n",
       "      <td>1.00</td>\n",
       "      <td>3.00</td>\n",
       "      <td>6.00</td>\n",
       "      <td>7.00</td>\n",
       "    </tr>\n",
       "    <tr>\n",
       "      <th>logons_6_mnth</th>\n",
       "      <td>70594.00</td>\n",
       "      <td>5.57</td>\n",
       "      <td>2.35</td>\n",
       "      <td>1.00</td>\n",
       "      <td>4.00</td>\n",
       "      <td>5.00</td>\n",
       "      <td>7.00</td>\n",
       "      <td>9.00</td>\n",
       "    </tr>\n",
       "  </tbody>\n",
       "</table>\n",
       "</div>"
      ],
      "text/plain": [
       "                    count       mean        std      min        25%  \\\n",
       "client_id        70594.00 5005025.75 2877289.31   169.00 2519542.75   \n",
       "clnt_tenure_yr   70594.00      12.05       6.87     2.00       6.00   \n",
       "clnt_tenure_mnth 70594.00     150.66      82.09    33.00      82.00   \n",
       "clnt_age         70594.00      46.18      15.60    13.00      32.00   \n",
       "num_accts        70594.00       2.26       0.53     1.00       2.00   \n",
       "bal              70594.00  147446.73  301510.58 13789.42   37346.60   \n",
       "calls_6_mnth     70594.00       3.38       2.24     0.00       1.00   \n",
       "logons_6_mnth    70594.00       5.57       2.35     1.00       4.00   \n",
       "\n",
       "                        50%        75%         max  \n",
       "client_id        5016973.50 7483074.25  9999839.00  \n",
       "clnt_tenure_yr        11.00      16.00       62.00  \n",
       "clnt_tenure_mnth     136.00     192.00      749.00  \n",
       "clnt_age              47.00      59.00       96.00  \n",
       "num_accts              2.00       2.00        8.00  \n",
       "bal                63334.59  137546.12 16320040.15  \n",
       "calls_6_mnth           3.00       6.00        7.00  \n",
       "logons_6_mnth          5.00       7.00        9.00  "
      ]
     },
     "execution_count": 46,
     "metadata": {},
     "output_type": "execute_result"
    }
   ],
   "source": [
    "demographic_numerical = df_fd.select_dtypes(\"number\")\n",
    "demographic_numerical.describe().T"
   ]
  },
  {
   "cell_type": "markdown",
   "id": "c4bcaaed",
   "metadata": {},
   "source": [
    "**Shape of distribution**"
   ]
  },
  {
   "cell_type": "code",
   "execution_count": 47,
   "id": "feb77d96",
   "metadata": {},
   "outputs": [
    {
     "data": {
      "text/plain": [
       "(0.08294227402556785, -0.9239629855316349)"
      ]
     },
     "execution_count": 47,
     "metadata": {},
     "output_type": "execute_result"
    }
   ],
   "source": [
    "client_age_skewness = demographic_numerical['clnt_age'].skew()\n",
    "client_age_kurtosis = demographic_numerical['clnt_age'].kurtosis()\n",
    "\n",
    "client_age_skewness, client_age_kurtosis"
   ]
  },
  {
   "cell_type": "code",
   "execution_count": 50,
   "id": "a55db1cc",
   "metadata": {},
   "outputs": [
    {
     "data": {
      "text/plain": [
       "<Axes: xlabel='clnt_age', ylabel='Count'>"
      ]
     },
     "execution_count": 50,
     "metadata": {},
     "output_type": "execute_result"
    },
    {
     "data": {
      "image/png": "[encoded data removed]",
      "text/plain": [
       "<Figure size 640x480 with 1 Axes>"
      ]
     },
     "metadata": {},
     "output_type": "display_data"
    }
   ],
   "source": [
    "sns.histplot(demographic_numerical['clnt_age'], kde=True, bins=30, color=\"teal\")"
   ]
  },
  {
   "cell_type": "code",
   "execution_count": 56,
   "id": "78fccf9e",
   "metadata": {},
   "outputs": [
    {
     "data": {
      "text/plain": [
       "<Axes: ylabel='clnt_age'>"
      ]
     },
     "execution_count": 56,
     "metadata": {},
     "output_type": "execute_result"
    },
    {
     "data": {
      "image/png": "[encoded data removed]",
      "text/plain": [
       "<Figure size 640x480 with 1 Axes>"
      ]
     },
     "metadata": {},
     "output_type": "display_data"
    }
   ],
   "source": [
    "sns.boxplot(data = demographic_numerical['clnt_age'], color=\"lightblue\")"
   ]
  },
  {
   "cell_type": "code",
   "execution_count": 52,
   "id": "9723cba7",
   "metadata": {},
   "outputs": [
    {
     "data": {
      "text/plain": [
       "(1.0366247018480386, 1.0709232170805043)"
      ]
     },
     "execution_count": 52,
     "metadata": {},
     "output_type": "execute_result"
    }
   ],
   "source": [
    "year_tenure_skewness = demographic_numerical['clnt_tenure_yr'].skew()\n",
    "year_tenure_kurtosis = demographic_numerical['clnt_tenure_yr'].kurtosis()\n",
    "\n",
    "year_tenure_skewness, year_tenure_kurtosis"
   ]
  },
  {
   "cell_type": "code",
   "execution_count": 54,
   "id": "4183f732",
   "metadata": {},
   "outputs": [
    {
     "data": {
      "text/plain": [
       "<Axes: xlabel='clnt_tenure_yr', ylabel='Count'>"
      ]
     },
     "execution_count": 54,
     "metadata": {},
     "output_type": "execute_result"
    },
    {
     "data": {
      "image/png": "[encoded data removed]",
      "text/plain": [
       "<Figure size 640x480 with 1 Axes>"
      ]
     },
     "metadata": {},
     "output_type": "display_data"
    }
   ],
   "source": [
    "sns.histplot(demographic_numerical['clnt_tenure_yr'], kde=True, bins=30, color=\"teal\")"
   ]
  },
  {
   "cell_type": "code",
   "execution_count": 57,
   "id": "ff620b27",
   "metadata": {},
   "outputs": [
    {
     "data": {
      "text/plain": [
       "<Axes: ylabel='clnt_tenure_yr'>"
      ]
     },
     "execution_count": 57,
     "metadata": {},
     "output_type": "execute_result"
    },
    {
     "data": {
      "image/png": "[encoded data removed]",
      "text/plain": [
       "<Figure size 640x480 with 1 Axes>"
      ]
     },
     "metadata": {},
     "output_type": "display_data"
    }
   ],
   "source": [
    "sns.boxplot(data = demographic_numerical['clnt_tenure_yr'], color=\"lightblue\")"
   ]
  },
  {
   "cell_type": "code",
   "execution_count": 55,
   "id": "2a32c9d1",
   "metadata": {},
   "outputs": [
    {
     "data": {
      "text/plain": [
       "(1.0506517922170102, 1.102446928017626)"
      ]
     },
     "execution_count": 55,
     "metadata": {},
     "output_type": "execute_result"
    }
   ],
   "source": [
    "month_tenure_skewness = demographic_numerical['clnt_tenure_mnth'].skew()\n",
    "month_tenure_kurtosis = demographic_numerical['clnt_tenure_mnth'].kurtosis()\n",
    "\n",
    "month_tenure_skewness, month_tenure_kurtosis"
   ]
  },
  {
   "cell_type": "code",
   "execution_count": 58,
   "id": "1a854eea",
   "metadata": {},
   "outputs": [
    {
     "data": {
      "text/plain": [
       "<Axes: xlabel='clnt_tenure_mnth', ylabel='Count'>"
      ]
     },
     "execution_count": 58,
     "metadata": {},
     "output_type": "execute_result"
    },
    {
     "data": {
      "image/png": "[encoded data removed]",
      "text/plain": [
       "<Figure size 640x480 with 1 Axes>"
      ]
     },
     "metadata": {},
     "output_type": "display_data"
    }
   ],
   "source": [
    "sns.histplot(demographic_numerical['clnt_tenure_mnth'], kde=True, bins=30, color=\"teal\")"
   ]
  },
  {
   "cell_type": "code",
   "execution_count": 59,
   "id": "97b58d7d",
   "metadata": {},
   "outputs": [
    {
     "data": {
      "text/plain": [
       "<Axes: ylabel='clnt_tenure_mnth'>"
      ]
     },
     "execution_count": 59,
     "metadata": {},
     "output_type": "execute_result"
    },
    {
     "data": {
      "image/png": "[encoded data removed]",
      "text/plain": [
       "<Figure size 640x480 with 1 Axes>"
      ]
     },
     "metadata": {},
     "output_type": "display_data"
    }
   ],
   "source": [
    "sns.boxplot(data = demographic_numerical['clnt_tenure_mnth'], color=\"lightblue\")"
   ]
  }
 ],
 "metadata": {
  "kernelspec": {
   "display_name": "Python 3 (ipykernel)",
   "language": "python",
   "name": "python3"
  },
  "language_info": {
   "codemirror_mode": {
    "name": "ipython",
    "version": 3
   },
   "file_extension": ".py",
   "mimetype": "text/x-python",
   "name": "python",
   "nbconvert_exporter": "python",
   "pygments_lexer": "ipython3",
   "version": "3.11.9"
  }
 },
 "nbformat": 4,
 "nbformat_minor": 5
}
